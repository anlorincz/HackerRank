{
 "cells": [
  {
   "cell_type": "code",
   "execution_count": 23,
   "id": "ca4013bd",
   "metadata": {},
   "outputs": [],
   "source": [
    "def plusMinus(arr):\n",
    "    pos = round(len([a for a in arr if a>0]) / len(arr),6)\n",
    "    neg = round(len([a for a in arr if a < 0]) / len(arr),6)\n",
    "    zer = round(len([a for a in arr if a == 0]) / len(arr),6)\n",
    "    for value in  pos, neg, zer:\n",
    "        print('{0:.6f}'.format(value))"
   ]
  },
  {
   "cell_type": "code",
   "execution_count": 24,
   "id": "0867efcf",
   "metadata": {},
   "outputs": [],
   "source": [
    "def miniMaxSum(arr):\n",
    "    # Write your code here\n",
    "    sums = [sum(i) for i in list(combinations(arr,4))]\n",
    "    print(min(sums), max(sums))"
   ]
  },
  {
   "cell_type": "code",
   "execution_count": 62,
   "id": "9d0a9166",
   "metadata": {},
   "outputs": [],
   "source": [
    "def timeConversion(s):\n",
    "    if s[-2:] == 'AM':\n",
    "        if s[:2] == '12':\n",
    "            return '00'+s[2:-2]\n",
    "        else: \n",
    "            return s[:-2]\n",
    "    else:\n",
    "        if s[:2] == '12':\n",
    "            return s[:-2]\n",
    "        else:\n",
    "            return str(int(s[:2])+12)+s[2:-2]\n"
   ]
  },
  {
   "cell_type": "code",
   "execution_count": 29,
   "id": "3fc3697a",
   "metadata": {},
   "outputs": [],
   "source": [
    "from collections import Counter\n",
    "def lonelyinteger(a):\n",
    "    [a for (a,b) in Counter(a).items() if b == 1][0]"
   ]
  },
  {
   "cell_type": "code",
   "execution_count": 67,
   "id": "6986842e",
   "metadata": {},
   "outputs": [],
   "source": [
    "def diagonalDifference(arr):\n",
    "    # Write your code here\n",
    "    primary = 0\n",
    "    secondary  = 0\n",
    "    for i in range(len(arr)):\n",
    "        primary +=arr[i][i]\n",
    "        secondary += arr[i][-(i+1)]\n",
    "    return abs(primary- secondary)"
   ]
  },
  {
   "cell_type": "code",
   "execution_count": 85,
   "id": "55ffe016",
   "metadata": {},
   "outputs": [],
   "source": [
    "def countingSort(arr):\n",
    "    output = [0] * 100\n",
    "    for i in range(len(output)):\n",
    "        output[i] = arr.count(i)\n",
    "    return output"
   ]
  },
  {
   "cell_type": "code",
   "execution_count": 259,
   "id": "a73b9fba",
   "metadata": {},
   "outputs": [
    {
     "data": {
      "text/plain": [
       "414"
      ]
     },
     "execution_count": 259,
     "metadata": {},
     "output_type": "execute_result"
    }
   ],
   "source": [
    "def Flipping_the_Matrix(matrix):\n",
    "    local_max = 0\n",
    "    n = len(matrix)//2\n",
    "    for i in range(n):\n",
    "        for j in range(n):\n",
    "            local_max += max(matrix[i,j], matrix[i][(2*n-1)-j],matrix[(2*n-1)-i][j], matrix[(2*n-1)-i][(2*n-1)-j])\n",
    "    \n",
    "    return local_max\n",
    "\n",
    "matrix = np.array([[112, 42, 83, 119], \n",
    "          [56, 125, 56, 49],  \n",
    "          [15, 78, 101, 43], \n",
    "          [62, 98, 114, 108]])\n",
    "\n",
    "Flipping_the_Matrix(matrix)"
   ]
  },
  {
   "cell_type": "code",
   "execution_count": 96,
   "id": "fe0fc25a",
   "metadata": {},
   "outputs": [],
   "source": [
    "a = [1,2,3,4,5,6,7]\n",
    "\n",
    "def findZigZagSequence(a, n):\n",
    "    a.sort()\n",
    "    mid = int((n + 1)/2)\n",
    "    \n",
    "    \n",
    "    st = mid  -1\n",
    "\n",
    "    ed = n -1 \n",
    "    while(st <= ed):\n",
    "        print(a)\n",
    "        print(a[st], a[ed])\n",
    "        \n",
    "        a[st], a[ed] = a[ed], a[st]\n",
    "        st = st + 1\n",
    "        ed = ed -1 \n",
    "\n",
    "    for i in range (n):\n",
    "        if i == n-1:\n",
    "            print(a[i])\n",
    "        else:\n",
    "            print(a[i], end = ' ')\n",
    "    return"
   ]
  },
  {
   "cell_type": "code",
   "execution_count": 97,
   "id": "c6aac39e",
   "metadata": {},
   "outputs": [
    {
     "name": "stdout",
     "output_type": "stream",
     "text": [
      "[1, 2, 3, 4, 5, 6, 7]\n",
      "4 7\n",
      "[1, 2, 3, 7, 5, 6, 4]\n",
      "5 6\n",
      "1 2 3 7 6 5 4\n"
     ]
    }
   ],
   "source": [
    "findZigZagSequence(a, len(a))"
   ]
  },
  {
   "cell_type": "code",
   "execution_count": 98,
   "id": "7ca211c2",
   "metadata": {},
   "outputs": [
    {
     "name": "stdout",
     "output_type": "stream",
     "text": [
      "1 2 3 7 6 5 4\n"
     ]
    }
   ],
   "source": [
    "for i in range (n):\n",
    "        if i == n-1:\n",
    "            print(a[i])\n",
    "        else:\n",
    "            print(a[i], end = ' ')"
   ]
  },
  {
   "cell_type": "code",
   "execution_count": 81,
   "id": "cf70a8f1",
   "metadata": {},
   "outputs": [
    {
     "data": {
      "text/plain": [
       "7"
      ]
     },
     "execution_count": 81,
     "metadata": {},
     "output_type": "execute_result"
    }
   ],
   "source": [
    "a = [1,2,3,4,5,6,7]\n",
    "a[6]"
   ]
  },
  {
   "cell_type": "code",
   "execution_count": 91,
   "id": "6df390c3",
   "metadata": {},
   "outputs": [],
   "source": [
    "def findZigZagSequence(a, n):\n",
    "    a.sort()\n",
    "    mid = int((n + 1)/2)-1\n",
    "    a[mid], a[n-1] = a[n-1], a[mid]\n",
    "\n",
    "    st = mid + 1\n",
    "    ed = n - 2\n",
    "    while(st <= ed):\n",
    "        a[st], a[ed] = a[ed], a[st]\n",
    "        st = st + 1\n",
    "        ed = ed - 1\n",
    "\n",
    "    for i in range (n):\n",
    "        if i == n-1:\n",
    "            print(a[i])\n",
    "        else:\n",
    "            print(a[i], end = ' ')\n",
    "    return"
   ]
  },
  {
   "cell_type": "code",
   "execution_count": 92,
   "id": "1280d5b0",
   "metadata": {},
   "outputs": [],
   "source": [
    "def caesarCipher(s, k):\n",
    "    abc = 'abcdefghijklmnopqrstuvwxyz'\n",
    "    new_abc = 'abcdefghijklmnopqrstuvwxyz'\n",
    "\n",
    "    for i in range(k):\n",
    "        new_abc = new_abc[1:] + new_abc[:1]\n",
    "                \n",
    "    new_s = ''\n",
    "    for char in list(s):\n",
    "        new_char = [j for (i,j) in list(zip(list(abc),list(new_abc))) if i == char.lower() ]\n",
    "        if len(new_char) == 0:\n",
    "            new_s = new_s + char\n",
    "        else: \n",
    "            if char.isupper():\n",
    "                new_s = new_s + new_char[0].upper()\n",
    "            else:\n",
    "                new_s = new_s + new_char[0]\n",
    "    return new_s"
   ]
  },
  {
   "cell_type": "code",
   "execution_count": 63,
   "id": "d257fa05",
   "metadata": {},
   "outputs": [],
   "source": [
    "import numpy as np"
   ]
  },
  {
   "cell_type": "code",
   "execution_count": 143,
   "id": "cfda60de",
   "metadata": {},
   "outputs": [],
   "source": [
    "grid = ['ebacd', 'fghij', 'olmkn', 'trpqs', 'xywuv']"
   ]
  },
  {
   "cell_type": "code",
   "execution_count": 153,
   "id": "317dcf34",
   "metadata": {},
   "outputs": [],
   "source": [
    "def grid(grid):\n",
    "    arr = [list(g) for g in grid]\n",
    "    for row in range(len(arr)):\n",
    "        if sorted(arr[row]) == list(arr[row]):\n",
    "            continue \n",
    "        else: \n",
    "            arr[row] = sorted(arr[row])\n",
    "    for col in range(len(arr[0])):\n",
    "        if sorted([r[col] for r in arr]) == list([r[col] for r in arr]):\n",
    "            continue\n",
    "        else: \n",
    "            return 'NO'\n",
    "    return 'YES'"
   ]
  },
  {
   "cell_type": "code",
   "execution_count": 7,
   "id": "f2434a49",
   "metadata": {},
   "outputs": [],
   "source": [
    "def superDigit(n, k):\n",
    "    if len(n) == 1:\n",
    "        return int(n)\n",
    "    else: \n",
    "        n = str(sum([int(x) for x in n]) * k)\n",
    "    while len(n) != 1:\n",
    "        n = str(sum([int(x) for x in n]))\n",
    "    return int(n)"
   ]
  },
  {
   "cell_type": "code",
   "execution_count": 10,
   "id": "0c77c792",
   "metadata": {},
   "outputs": [
    {
     "ename": "IndentationError",
     "evalue": "expected an indented block (2050399351.py, line 3)",
     "output_type": "error",
     "traceback": [
      "\u001b[0;36m  Input \u001b[0;32mIn [10]\u001b[0;36m\u001b[0m\n\u001b[0;31m    \u001b[0m\n\u001b[0m    ^\u001b[0m\n\u001b[0;31mIndentationError\u001b[0m\u001b[0;31m:\u001b[0m expected an indented block\n"
     ]
    }
   ],
   "source": [
    "def minimumBribes(q):\n",
    "    # Write your code here\n",
    "    "
   ]
  },
  {
   "cell_type": "code",
   "execution_count": 27,
   "id": "8aaec7d8",
   "metadata": {},
   "outputs": [],
   "source": [
    "def minimumBribes(q):\n",
    "    bribes = 0\n",
    "    caotic = False\n",
    "    for nr in range(1,len(q)+1):\n",
    "        bribed = len( set(range(nr)) - set(q[:q.index(nr)]))-1\n",
    "        if bribed > 2:\n",
    "            print( 'Too chaotic')\n",
    "            caotic = True\n",
    "            break\n",
    "        bribes += bribed\n",
    "    if caotic == False:\n",
    "        print(bribes)"
   ]
  },
  {
   "cell_type": "code",
   "execution_count": 28,
   "id": "668e2c11",
   "metadata": {},
   "outputs": [
    {
     "name": "stdout",
     "output_type": "stream",
     "text": [
      "7\n"
     ]
    }
   ],
   "source": [
    "minimumBribes([1,2,5,3,7,8,6,4])"
   ]
  },
  {
   "cell_type": "code",
   "execution_count": 29,
   "id": "14710c7b",
   "metadata": {},
   "outputs": [],
   "source": [
    "li = '1 2 6 4 3 7 5 10 9 12 8 11 14 17 15 19 13 18 16 20 22 21 23 25 26 24 28 27 31 32 30 29 34 33 36 37 38 40 35 42 43 39 41 45 44 47 46 49 50 48 51 55 53 52 54 59 57 60 56 62 63 61 58 65 64 69 67 66 68 72 70 71 73 75 77 76 74 78 79 81 82 88 80 86 83 87 85 84 91 89 92 94 90 93 97 96 95 99 98 101 100 102 106 103 107 104 105 110 109 108 112 111 114 118 115 113 117 119 116 121 123 122 125 120 124 128 126 130 127 134 129 136 135 131 132 138 137 140 133 139 142 141 144 143 146 145 148 147 150 149 153 154 151 158 152 156 155 159 157 162 160 161 164 165 167 163 166 168 170 169 171 172 173 174 175 177 176 180 178 179 182 181 184 183 185 187 189 186 191 190 194 188 192 193 195 197 196 199 200 198 202 201 203 206 204 208 205 207 210 209 211 212 217 213 215 214 216 219 218 221 223 222 220 224 227 226 229 225 228 231 233 230 232 235 234 237 236 238 241 242 240 239 243 244 247 245 248 246 250 249 251 252 254 255 253 259 258 257 256 262 260 263 261 267 265 264 268 266 272 270 273 269 271 275 274 279 277 276 281 280 278 282 284 286 287 283 285 291 288 290 289 293 295 292 294 298 296 299 297 301 300 306 302 305 303 307 304 310 309 308 311 314 313 312 317 316 315 319 318 320 322 323 324 321 328 327 325 330 329 326 332 331 337 334 333 339 336 335 338 341 340 343 342 344 346 345 348 347 350 351 352 349 356 355 353 357 354 360 358 359 362 361 365 367 364 363 370 366 368 369 373 371 374 372 375 378 377 380 376 379 381 383 382 387 386 385 384 388 389 390 393 392 391 395 399 398 396 394 400 397 407 403 402 401 404 408 406 405 409 411 410 412 415 413 414 417 419 416 420 418 423 422 421 429 426 424 425 427 432 428 431 430 433 436 435 434 438 440 437 445 439 441 443 444 442 446 449 447 451 448 452 453 450 454 456 455 458 460 457 459 462 461 463 467 466 464 465 470 468 469 474 473 471 472 475 476 478 477 482 479 481 480 483 484 487 486 485 490 489 488 493 494 491 497 492 496 498 495 500 499 503 502 501 504 505 507 506 508 511 509 512 513 510 515 517 518 514 516 521 520 522 519 524 525 523 528 527 530 529 526 533 532 531 535 534 538 537 536 539 541 544 540 542 543 546 545 547 549 548 550 551 553 552 554 555 556 558 563 561 557 559 562 560 569 565 566 564 572 568 567 570 571 574 573 578 576 575 577 581 579 582 583 580 585 584 586 587 588 591 589 590 593 592 595 594 597 596 598 600 599 602 604 601 606 607 603 611 610 605 612 609 613 608 615 616 614 618 617 621 619 622 620 623 627 624 625 629 626 628 633 630 634 631 632 636 637 639 635 640 638 641 643 642 644 645 646 648 647 650 649 653 651 652 654 656 660 655 657 661 658 664 659 663 662 665 667 668 669 666 671 670 672 674 677 673 675 679 678 681 676 682 680 685 684 683 688 689 687 686 691 690 694 693 695 692 696 698 703 697 700 701 699 706 702 704 705 708 710 709 707 712 713 711 714 717 715 719 721 718 720 722 716 724 723 727 725 726 729 730 728 733 731 732 736 734 740 735 737 739 738 742 744 743 741 745 746 748 747 751 750 749 753 754 755 752 757 756 759 758 760 761 762 764 763 765 771 767 769 766 768 772 770 773 774 776 775 778 779 777 781 780 782 783 786 785 784 787 788 789 793 790 792 791 795 796 794 799 797 801 798 800 803 802 805 804 806 807 809 808 812 811 816 814 810 817 815 818 821 813 819 823 824 820 822 827 825 830 826 828 829 833 831 832 834 837 836 835 839 838 840 844 843 842 841 845 846 848 847 849 850 852 853 851 854 855 858 857 856 861 860 859 862 868 866 864 865 863 870 869 867 872 871 874 873 877 875 876 878 880 879 881 884 882 885 883 887 886 888 889 891 890 892 893 894 896 897 895 898 899 901 902 900 904 905 903 907 906 909 910 913 911 908 915 912 916 914 917 918 920 919 921 923 924 922 926 928 925 929 931 927 930 934 932 935 933 936 937 939 940 938 941 943 942 945 944 947 946 948 951 949 950 952 954 956 953 957 955 959 958 961 962 960 964 965 963 966 968 967 970 969 971 973 972 975 977 978 976 974 979 981 980 982 984 983 986 985 988 987 989 991 992 990 996 994 993 995 997 998'\n",
    "\n",
    "li = li.split(' ')\n",
    "li = [int(i) for i in li]"
   ]
  },
  {
   "cell_type": "code",
   "execution_count": 30,
   "id": "40b188a5",
   "metadata": {},
   "outputs": [
    {
     "name": "stdout",
     "output_type": "stream",
     "text": [
      "Too chaotic\n"
     ]
    }
   ],
   "source": [
    "minimumBribes(li)"
   ]
  },
  {
   "cell_type": "code",
   "execution_count": 7,
   "id": "34696948",
   "metadata": {},
   "outputs": [],
   "source": [
    "def isBalanced(s):\n",
    "    dic = { ')' : '(', ']': '[',   '}': '{'}\n",
    "    li = list(s)\n",
    "    if (len([i for i in li if i == '{']) == len([i for i in li if i == '}'])) == False:\n",
    "        return 'NO'\n",
    "    if (len([i for i in li if i == '[']) == len([i for i in li if i == ']'])) == False:\n",
    "        return 'NO'\n",
    "    if (len([i for i in li if i == '(']) == len([i for i in li if i == ')'])) == False:\n",
    "        return 'NO'\n",
    "    first_closer_idx = min([li.index(')'), li.index(']'), li.index('}')])\n",
    "    for i in range(len(s)//2):\n",
    "        if (s[first_closer_idx-(1+i)] == dic[s[first_closer_idx+i]]) == False:\n",
    "            return 'NO'  \n",
    "\n",
    "    return 'YES'"
   ]
  },
  {
   "cell_type": "code",
   "execution_count": null,
   "id": "1de45634",
   "metadata": {},
   "outputs": [],
   "source": [
    "'()[[]]()'"
   ]
  },
  {
   "cell_type": "code",
   "execution_count": 49,
   "id": "33494072",
   "metadata": {},
   "outputs": [],
   "source": []
  },
  {
   "cell_type": "code",
   "execution_count": 51,
   "id": "76d0f8cb",
   "metadata": {},
   "outputs": [
    {
     "name": "stdout",
     "output_type": "stream",
     "text": [
      "{\n",
      "}\n"
     ]
    },
    {
     "data": {
      "text/plain": [
       "True"
      ]
     },
     "execution_count": 51,
     "metadata": {},
     "output_type": "execute_result"
    }
   ],
   "source": [
    "\n"
   ]
  },
  {
   "cell_type": "code",
   "execution_count": 55,
   "id": "47dda26e",
   "metadata": {},
   "outputs": [
    {
     "data": {
      "text/plain": [
       "4"
      ]
     },
     "execution_count": 55,
     "metadata": {},
     "output_type": "execute_result"
    }
   ],
   "source": []
  },
  {
   "cell_type": "code",
   "execution_count": null,
   "id": "e9a019a1",
   "metadata": {},
   "outputs": [],
   "source": []
  }
 ],
 "metadata": {
  "kernelspec": {
   "display_name": "Python 3 (ipykernel)",
   "language": "python",
   "name": "python3"
  },
  "language_info": {
   "codemirror_mode": {
    "name": "ipython",
    "version": 3
   },
   "file_extension": ".py",
   "mimetype": "text/x-python",
   "name": "python",
   "nbconvert_exporter": "python",
   "pygments_lexer": "ipython3",
   "version": "3.9.10"
  }
 },
 "nbformat": 4,
 "nbformat_minor": 5
}
